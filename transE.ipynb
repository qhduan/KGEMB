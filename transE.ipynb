{
 "cells": [
  {
   "cell_type": "code",
   "execution_count": 1,
   "metadata": {},
   "outputs": [],
   "source": [
    "import math\n",
    "from collections import Counter\n",
    "from tqdm import tqdm\n",
    "import tensorflow as tf\n",
    "from transe import build_model\n",
    "from utils import load_data, data_generate"
   ]
  },
  {
   "cell_type": "code",
   "execution_count": 2,
   "metadata": {},
   "outputs": [
    {
     "name": "stdout",
     "output_type": "stream",
     "text": [
      "40961\n"
     ]
    }
   ],
   "source": [
    "train_file = 'WN18/train.txt'\n",
    "valid_file = 'WN18/valid.txt'\n",
    "test_file = 'WN18/train.txt'\n",
    "\n",
    "train = load_data(train_file)\n",
    "valid = load_data(valid_file)\n",
    "test = load_data(test_file)\n",
    "\n",
    "# words实际上是实体和关系的字符串\n",
    "words = Counter()\n",
    "for x in train:\n",
    "    words.update(x)\n",
    "for x in valid:\n",
    "    words.update(x)\n",
    "for x in test:\n",
    "    words.update(x)\n",
    "print(len(words))\n",
    "# 大约是words数量的10倍\n",
    "n_ent_rel = 50 * 10000\n",
    "\n",
    "batch_size = 1024 * 4\n",
    "n_batch_train = math.ceil(len(train) / batch_size)\n",
    "n_batch_valid = math.ceil(len(valid) / batch_size)"
   ]
  },
  {
   "cell_type": "code",
   "execution_count": 3,
   "metadata": {},
   "outputs": [
    {
     "name": "stdout",
     "output_type": "stream",
     "text": [
      "WARNING:tensorflow:Model failed to serialize as JSON. Ignoring... \n",
      "Epoch 1/100\n",
      "35/35 [==============================] - 17s 475ms/step - loss: 0.9870 - val_loss: 0.9787\n",
      "Epoch 2/100\n",
      "35/35 [==============================] - 15s 426ms/step - loss: 0.9429 - val_loss: 0.9532\n",
      "Epoch 3/100\n",
      "35/35 [==============================] - 15s 436ms/step - loss: 0.8983 - val_loss: 0.9226\n",
      "Epoch 4/100\n",
      "35/35 [==============================] - 15s 433ms/step - loss: 0.8511 - val_loss: 0.8863\n",
      "Epoch 5/100\n",
      "35/35 [==============================] - 15s 433ms/step - loss: 0.8009 - val_loss: 0.8493\n",
      "Epoch 6/100\n",
      "35/35 [==============================] - 15s 440ms/step - loss: 0.7503 - val_loss: 0.8133\n",
      "Epoch 7/100\n",
      "35/35 [==============================] - 15s 437ms/step - loss: 0.7032 - val_loss: 0.7778\n",
      "Epoch 8/100\n",
      "35/35 [==============================] - 15s 439ms/step - loss: 0.6611 - val_loss: 0.7506\n",
      "Epoch 9/100\n",
      "35/35 [==============================] - 15s 431ms/step - loss: 0.6200 - val_loss: 0.7174\n",
      "Epoch 10/100\n",
      "35/35 [==============================] - 15s 429ms/step - loss: 0.5794 - val_loss: 0.6886\n",
      "Epoch 11/100\n",
      "35/35 [==============================] - 15s 426ms/step - loss: 0.5394 - val_loss: 0.6594\n",
      "Epoch 12/100\n",
      "35/35 [==============================] - 15s 432ms/step - loss: 0.5025 - val_loss: 0.6338\n",
      "Epoch 13/100\n",
      "35/35 [==============================] - 15s 434ms/step - loss: 0.4660 - val_loss: 0.6069\n",
      "Epoch 14/100\n",
      "35/35 [==============================] - 15s 434ms/step - loss: 0.4319 - val_loss: 0.5858\n",
      "Epoch 15/100\n",
      "35/35 [==============================] - 15s 437ms/step - loss: 0.3989 - val_loss: 0.5588\n",
      "Epoch 16/100\n",
      "35/35 [==============================] - 15s 434ms/step - loss: 0.3682 - val_loss: 0.5359\n",
      "Epoch 17/100\n",
      "35/35 [==============================] - 16s 463ms/step - loss: 0.3396 - val_loss: 0.5140\n",
      "Epoch 18/100\n",
      "35/35 [==============================] - 16s 447ms/step - loss: 0.3138 - val_loss: 0.5003\n",
      "Epoch 19/100\n",
      "35/35 [==============================] - 15s 441ms/step - loss: 0.2897 - val_loss: 0.4749\n",
      "Epoch 20/100\n",
      "35/35 [==============================] - 16s 450ms/step - loss: 0.2677 - val_loss: 0.4653\n",
      "Epoch 21/100\n",
      "35/35 [==============================] - 16s 452ms/step - loss: 0.2499 - val_loss: 0.4424\n",
      "Epoch 22/100\n",
      "35/35 [==============================] - 15s 434ms/step - loss: 0.2324 - val_loss: 0.4326\n",
      "Epoch 23/100\n",
      "35/35 [==============================] - 15s 435ms/step - loss: 0.2174 - val_loss: 0.4133\n",
      "Epoch 24/100\n",
      "35/35 [==============================] - 15s 429ms/step - loss: 0.2037 - val_loss: 0.3958\n",
      "Epoch 25/100\n",
      "35/35 [==============================] - 15s 430ms/step - loss: 0.1900 - val_loss: 0.3827\n",
      "Epoch 26/100\n",
      "35/35 [==============================] - 15s 435ms/step - loss: 0.1799 - val_loss: 0.3725\n",
      "Epoch 27/100\n",
      "35/35 [==============================] - 15s 432ms/step - loss: 0.1686 - val_loss: 0.3618\n",
      "Epoch 28/100\n",
      "35/35 [==============================] - 15s 429ms/step - loss: 0.1603 - val_loss: 0.3562\n",
      "Epoch 29/100\n",
      "35/35 [==============================] - 16s 445ms/step - loss: 0.1503 - val_loss: 0.3455\n",
      "Epoch 30/100\n",
      "35/35 [==============================] - 15s 435ms/step - loss: 0.1421 - val_loss: 0.3303\n",
      "Epoch 31/100\n",
      "35/35 [==============================] - 15s 433ms/step - loss: 0.1349 - val_loss: 0.3265\n",
      "Epoch 32/100\n",
      "35/35 [==============================] - 15s 436ms/step - loss: 0.1280 - val_loss: 0.3109\n",
      "Epoch 33/100\n",
      "35/35 [==============================] - 16s 447ms/step - loss: 0.1205 - val_loss: 0.3094\n",
      "Epoch 34/100\n",
      "35/35 [==============================] - 16s 456ms/step - loss: 0.1149 - val_loss: 0.2977\n",
      "Epoch 35/100\n",
      "35/35 [==============================] - 16s 447ms/step - loss: 0.1102 - val_loss: 0.2877\n",
      "Epoch 36/100\n",
      "35/35 [==============================] - 15s 437ms/step - loss: 0.1051 - val_loss: 0.2822\n",
      "Epoch 37/100\n",
      "35/35 [==============================] - 15s 442ms/step - loss: 0.1001 - val_loss: 0.2754\n",
      "Epoch 38/100\n",
      "35/35 [==============================] - 15s 438ms/step - loss: 0.0953 - val_loss: 0.2695\n",
      "Epoch 39/100\n",
      "35/35 [==============================] - 16s 446ms/step - loss: 0.0913 - val_loss: 0.2618\n",
      "Epoch 40/100\n",
      "35/35 [==============================] - 16s 451ms/step - loss: 0.0865 - val_loss: 0.2539\n",
      "Epoch 41/100\n",
      "35/35 [==============================] - 16s 450ms/step - loss: 0.0829 - val_loss: 0.2472\n",
      "Epoch 42/100\n",
      "35/35 [==============================] - 16s 461ms/step - loss: 0.0793 - val_loss: 0.2404\n",
      "Epoch 43/100\n",
      "35/35 [==============================] - 16s 458ms/step - loss: 0.0755 - val_loss: 0.2366\n",
      "Epoch 44/100\n",
      "35/35 [==============================] - 16s 461ms/step - loss: 0.0726 - val_loss: 0.2315\n",
      "Epoch 45/100\n",
      "35/35 [==============================] - 16s 458ms/step - loss: 0.0694 - val_loss: 0.2222\n",
      "Epoch 46/100\n",
      "35/35 [==============================] - 18s 511ms/step - loss: 0.0667 - val_loss: 0.2237\n",
      "Epoch 47/100\n",
      "35/35 [==============================] - 16s 464ms/step - loss: 0.0644 - val_loss: 0.2172\n",
      "Epoch 48/100\n",
      "35/35 [==============================] - 16s 462ms/step - loss: 0.0615 - val_loss: 0.2115\n",
      "Epoch 49/100\n",
      "35/35 [==============================] - 16s 457ms/step - loss: 0.0591 - val_loss: 0.2123\n",
      "Epoch 50/100\n",
      "35/35 [==============================] - 15s 439ms/step - loss: 0.0569 - val_loss: 0.2037\n",
      "Epoch 51/100\n",
      "35/35 [==============================] - 16s 456ms/step - loss: 0.0543 - val_loss: 0.1993\n",
      "Epoch 52/100\n",
      "35/35 [==============================] - 17s 479ms/step - loss: 0.0522 - val_loss: 0.1931\n",
      "Epoch 53/100\n",
      "35/35 [==============================] - 17s 476ms/step - loss: 0.0504 - val_loss: 0.1877\n",
      "Epoch 54/100\n",
      "35/35 [==============================] - 17s 476ms/step - loss: 0.0484 - val_loss: 0.1854\n",
      "Epoch 55/100\n",
      "35/35 [==============================] - 17s 478ms/step - loss: 0.0465 - val_loss: 0.1799\n",
      "Epoch 56/100\n",
      "35/35 [==============================] - 17s 476ms/step - loss: 0.0452 - val_loss: 0.1750\n",
      "Epoch 57/100\n",
      "35/35 [==============================] - 17s 472ms/step - loss: 0.0431 - val_loss: 0.1763\n",
      "Epoch 58/100\n",
      "35/35 [==============================] - 17s 475ms/step - loss: 0.0414 - val_loss: 0.1707\n",
      "Epoch 59/100\n",
      "35/35 [==============================] - 17s 480ms/step - loss: 0.0399 - val_loss: 0.1667\n",
      "Epoch 60/100\n",
      "35/35 [==============================] - 17s 477ms/step - loss: 0.0384 - val_loss: 0.1630\n",
      "Epoch 61/100\n",
      "35/35 [==============================] - 16s 471ms/step - loss: 0.0374 - val_loss: 0.1611\n",
      "Epoch 62/100\n",
      "35/35 [==============================] - 16s 471ms/step - loss: 0.0359 - val_loss: 0.1601\n",
      "Epoch 63/100\n",
      "35/35 [==============================] - 16s 457ms/step - loss: 0.0347 - val_loss: 0.1569\n",
      "Epoch 64/100\n",
      "35/35 [==============================] - 15s 442ms/step - loss: 0.0334 - val_loss: 0.1544\n",
      "Epoch 65/100\n",
      "35/35 [==============================] - 16s 451ms/step - loss: 0.0324 - val_loss: 0.1489\n",
      "Epoch 66/100\n",
      "35/35 [==============================] - 16s 448ms/step - loss: 0.0312 - val_loss: 0.1448\n",
      "Epoch 67/100\n",
      "35/35 [==============================] - 16s 453ms/step - loss: 0.0305 - val_loss: 0.1448\n",
      "Epoch 68/100\n",
      "35/35 [==============================] - 16s 455ms/step - loss: 0.0289 - val_loss: 0.1405\n",
      "Epoch 69/100\n",
      "35/35 [==============================] - 16s 465ms/step - loss: 0.0277 - val_loss: 0.1445\n",
      "Epoch 70/100\n",
      "35/35 [==============================] - 17s 473ms/step - loss: 0.0272 - val_loss: 0.1376\n",
      "Epoch 71/100\n",
      "35/35 [==============================] - 16s 453ms/step - loss: 0.0262 - val_loss: 0.1354\n",
      "Epoch 72/100\n",
      "35/35 [==============================] - 16s 457ms/step - loss: 0.0258 - val_loss: 0.1331\n",
      "Epoch 73/100\n",
      "35/35 [==============================] - 16s 457ms/step - loss: 0.0249 - val_loss: 0.1294\n",
      "Epoch 74/100\n",
      "35/35 [==============================] - 16s 450ms/step - loss: 0.0239 - val_loss: 0.1287\n",
      "Epoch 75/100\n",
      "35/35 [==============================] - 16s 450ms/step - loss: 0.0228 - val_loss: 0.1273\n",
      "Epoch 76/100\n",
      "35/35 [==============================] - 16s 470ms/step - loss: 0.0229 - val_loss: 0.1241\n",
      "Epoch 77/100\n",
      "35/35 [==============================] - 16s 464ms/step - loss: 0.0220 - val_loss: 0.1213\n",
      "Epoch 78/100\n",
      "35/35 [==============================] - 16s 467ms/step - loss: 0.0209 - val_loss: 0.1200\n",
      "Epoch 79/100\n",
      "35/35 [==============================] - 16s 470ms/step - loss: 0.0205 - val_loss: 0.1176\n"
     ]
    },
    {
     "name": "stdout",
     "output_type": "stream",
     "text": [
      "Epoch 80/100\n",
      "35/35 [==============================] - 17s 494ms/step - loss: 0.0203 - val_loss: 0.1157\n",
      "Epoch 81/100\n",
      "35/35 [==============================] - 17s 481ms/step - loss: 0.0191 - val_loss: 0.1127\n",
      "Epoch 82/100\n",
      "35/35 [==============================] - 17s 499ms/step - loss: 0.0190 - val_loss: 0.1123\n",
      "Epoch 83/100\n",
      "35/35 [==============================] - 18s 506ms/step - loss: 0.0186 - val_loss: 0.1099\n",
      "Epoch 84/100\n",
      "35/35 [==============================] - 17s 478ms/step - loss: 0.0175 - val_loss: 0.1079\n",
      "Epoch 85/100\n",
      "35/35 [==============================] - 16s 463ms/step - loss: 0.0170 - val_loss: 0.1062\n",
      "Epoch 86/100\n",
      "35/35 [==============================] - 17s 472ms/step - loss: 0.0169 - val_loss: 0.1048\n",
      "Epoch 87/100\n",
      "35/35 [==============================] - 17s 494ms/step - loss: 0.0165 - val_loss: 0.1052\n",
      "Epoch 88/100\n",
      "35/35 [==============================] - 17s 500ms/step - loss: 0.0159 - val_loss: 0.1031\n",
      "Epoch 89/100\n",
      "35/35 [==============================] - 18s 505ms/step - loss: 0.0156 - val_loss: 0.0995\n",
      "Epoch 90/100\n",
      "35/35 [==============================] - 17s 492ms/step - loss: 0.0154 - val_loss: 0.1001\n",
      "Epoch 91/100\n",
      "35/35 [==============================] - 18s 501ms/step - loss: 0.0148 - val_loss: 0.0981\n",
      "Epoch 92/100\n",
      "35/35 [==============================] - 17s 485ms/step - loss: 0.0145 - val_loss: 0.0990\n",
      "Epoch 93/100\n",
      "35/35 [==============================] - 17s 490ms/step - loss: 0.0140 - val_loss: 0.0956\n",
      "Epoch 94/100\n",
      "35/35 [==============================] - 17s 473ms/step - loss: 0.0137 - val_loss: 0.0953\n",
      "Epoch 95/100\n",
      "35/35 [==============================] - 16s 469ms/step - loss: 0.0134 - val_loss: 0.0920\n",
      "Epoch 96/100\n",
      "35/35 [==============================] - 17s 485ms/step - loss: 0.0127 - val_loss: 0.0937\n",
      "Epoch 97/100\n",
      "35/35 [==============================] - 17s 475ms/step - loss: 0.0124 - val_loss: 0.0906\n",
      "Epoch 98/100\n",
      "35/35 [==============================] - 17s 478ms/step - loss: 0.0125 - val_loss: 0.0885\n",
      "Epoch 99/100\n",
      "35/35 [==============================] - 16s 470ms/step - loss: 0.0118 - val_loss: 0.0928\n",
      "Epoch 100/100\n",
      "35/35 [==============================] - 16s 470ms/step - loss: 0.0116 - val_loss: 0.0864\n"
     ]
    },
    {
     "data": {
      "text/plain": [
       "<tensorflow.python.keras.callbacks.History at 0x7fd060270208>"
      ]
     },
     "execution_count": 3,
     "metadata": {},
     "output_type": "execute_result"
    }
   ],
   "source": [
    "model, e2i, emb = build_model(n_ent_rel)\n",
    "\n",
    "model.fit_generator(\n",
    "    data_generate(train, batch_size),\n",
    "    steps_per_epoch=n_batch_train,\n",
    "    epochs=100,\n",
    "    validation_data=data_generate(valid, batch_size),\n",
    "    validation_steps=n_batch_valid,\n",
    "    callbacks=[\n",
    "        tf.keras.callbacks.TensorBoard('./logs')\n",
    "    ]\n",
    ")"
   ]
  },
  {
   "cell_type": "code",
   "execution_count": 4,
   "metadata": {},
   "outputs": [
    {
     "name": "stdout",
     "output_type": "stream",
     "text": [
      "INFO:tensorflow:Assets written to: /tmp/e2i/assets\n",
      "WARNING:tensorflow:From /home/qhduan/.local/lib/python3.7/site-packages/tensorflow_core/python/ops/resource_variable_ops.py:1781: calling BaseResourceVariable.__init__ (from tensorflow.python.ops.resource_variable_ops) with constraint is deprecated and will be removed in a future version.\n",
      "Instructions for updating:\n",
      "If using Keras pass *_constraint arguments to layers.\n",
      "INFO:tensorflow:Assets written to: /tmp/emb/assets\n"
     ]
    }
   ],
   "source": [
    "# Save model\n",
    "e2i.save('/tmp/e2i')\n",
    "emb.save('/tmp/emb')"
   ]
  },
  {
   "cell_type": "markdown",
   "metadata": {},
   "source": [
    "以下是测试部分，用来计算测试数据集的HIT@10"
   ]
  },
  {
   "cell_type": "code",
   "execution_count": 3,
   "metadata": {},
   "outputs": [],
   "source": [
    "entities = sorted(words.keys())\n",
    "rel = [x for x in entities if x.startswith('_')]\n",
    "entities = [x for x in entities if not x.startswith('_')]\n",
    "entity_ind = {k: v for v, k in enumerate(entities)}"
   ]
  },
  {
   "cell_type": "code",
   "execution_count": 4,
   "metadata": {},
   "outputs": [],
   "source": [
    "e2i = tf.keras.models.load_model('/tmp/e2i')\n",
    "emb = tf.keras.models.load_model('/tmp/emb')"
   ]
  },
  {
   "cell_type": "code",
   "execution_count": 5,
   "metadata": {},
   "outputs": [
    {
     "name": "stdout",
     "output_type": "stream",
     "text": [
      "18 40943\n"
     ]
    }
   ],
   "source": [
    "print(len(rel), len(entities))"
   ]
  },
  {
   "cell_type": "code",
   "execution_count": 6,
   "metadata": {},
   "outputs": [],
   "source": [
    "ent_vecs = emb(e2i(tf.constant([entities]))).numpy()[0]\n",
    "rel_vecs = emb(e2i(tf.constant([rel]))).numpy()[0]"
   ]
  },
  {
   "cell_type": "code",
   "execution_count": 7,
   "metadata": {},
   "outputs": [
    {
     "name": "stdout",
     "output_type": "stream",
     "text": [
      "(40943, 64) (18, 64)\n"
     ]
    }
   ],
   "source": [
    "print(ent_vecs.shape, rel_vecs.shape)"
   ]
  },
  {
   "cell_type": "code",
   "execution_count": 8,
   "metadata": {},
   "outputs": [
    {
     "name": "stdout",
     "output_type": "stream",
     "text": [
      "WARNING:tensorflow:5 out of the last 5 calls to <function recreate_function.<locals>.restored_function_body at 0x7f08b43a80d0> triggered tf.function retracing. Tracing is expensive and the excessive number of tracings is likely due to passing python objects instead of tensors. Also, tf.function has experimental_relax_shapes=True option that relaxes argument shapes that can avoid unnecessary retracing. Please refer to https://www.tensorflow.org/beta/tutorials/eager/tf_function#python_or_tensor_args and https://www.tensorflow.org/api_docs/python/tf/function for more details.\n"
     ]
    }
   ],
   "source": [
    "entities_vecs = emb(e2i(tf.constant([[x] for x in entities])))[:, 0]\n",
    "test_head = emb(e2i(tf.constant([[x[0]] for x in test])))[:, 0]\n",
    "test_rel = emb(e2i(tf.constant([[x[1]] for x in test])))[:, 0]\n",
    "pred_test_tail = test_head + test_rel"
   ]
  },
  {
   "cell_type": "code",
   "execution_count": 9,
   "metadata": {},
   "outputs": [
    {
     "name": "stderr",
     "output_type": "stream",
     "text": [
      "good: 119930, bad: 21512, total: 141442, hit@10: 0.8479: 100%|██████████| 141442/141442 [05:52<00:00, 401.04it/s]\n"
     ]
    }
   ],
   "source": [
    "good, bad = 0, 0\n",
    "pbar = tqdm(enumerate(test), total=len(test))\n",
    "for i, (_, _, tail) in pbar:\n",
    "    tail_ind = entity_ind[tail]\n",
    "    vec = pred_test_tail[i]\n",
    "    _, dis = tf.linalg.normalize(vec - entities_vecs, axis=1)\n",
    "    ind = tf.argsort(tf.squeeze(dis)).numpy()[:10]\n",
    "    sign = tail_ind in ind\n",
    "    if sign:\n",
    "        good += 1\n",
    "    else:\n",
    "        bad += 1\n",
    "    pbar.set_description(\n",
    "        f'good: {good}, bad: {bad}, total: {good + bad}, hit@10: {good / (good + bad):.4f}'\n",
    "    )"
   ]
  },
  {
   "cell_type": "code",
   "execution_count": 10,
   "metadata": {},
   "outputs": [
    {
     "name": "stdout",
     "output_type": "stream",
     "text": [
      "119930 21512 141442 0.8479093904215156\n"
     ]
    }
   ],
   "source": [
    "# https://github.com/thunlp/KB2E\n",
    "# Hit@10(raw) transE = 75.4 or 78.9\n",
    "print(good, bad, len(test), good / len(test))"
   ]
  },
  {
   "cell_type": "code",
   "execution_count": null,
   "metadata": {},
   "outputs": [],
   "source": []
  }
 ],
 "metadata": {
  "kernelspec": {
   "display_name": "Python 3",
   "language": "python",
   "name": "python3"
  },
  "language_info": {
   "codemirror_mode": {
    "name": "ipython",
    "version": 3
   },
   "file_extension": ".py",
   "mimetype": "text/x-python",
   "name": "python",
   "nbconvert_exporter": "python",
   "pygments_lexer": "ipython3",
   "version": "3.7.3"
  }
 },
 "nbformat": 4,
 "nbformat_minor": 2
}
